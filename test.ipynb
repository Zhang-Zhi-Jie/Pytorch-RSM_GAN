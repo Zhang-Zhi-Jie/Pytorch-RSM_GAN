{
 "nbformat": 4,
 "nbformat_minor": 2,
 "metadata": {
  "language_info": {
   "name": "python",
   "codemirror_mode": {
    "name": "ipython",
    "version": 3
   },
   "version": "3.7.3-final"
  },
  "orig_nbformat": 2,
  "file_extension": ".py",
  "mimetype": "text/x-python",
  "name": "python",
  "npconvert_exporter": "python",
  "pygments_lexer": "ipython3",
  "version": 3,
  "kernelspec": {
   "name": "python3",
   "display_name": "Python 3"
  }
 },
 "cells": [
  {
   "cell_type": "code",
   "execution_count": 1,
   "metadata": {},
   "outputs": [],
   "source": [
    "import numpy as np\n",
    "import torch\n",
    "import torch.nn as nn\n",
    "train_data_path = \"./data/matrix_data/train_data/\"\n",
    "file_list = os.listdir(train_data_path)\n",
    "file_list.sort(key= lambda x:int(x[11:-4]))\n",
    "train_data = []\n",
    "for obj in file_list:   \n",
    "    file_path = train_data_path + obj\n",
    "    matrix = np.load(file_path)\n",
    "    train_data.append(matrix)"
   ]
  },
  {
   "cell_type": "code",
   "execution_count": 2,
   "metadata": {},
   "outputs": [],
   "source": [
    "train_data = np.array(train_data)\n",
    "import torch\n",
    "train_data = torch.from_numpy(train_data).float()\n",
    "input = train_data[0]"
   ]
  },
  {
   "cell_type": "code",
   "execution_count": 3,
   "metadata": {},
   "outputs": [
    {
     "output_type": "stream",
     "name": "stdout",
     "text": "torch.Size([5, 32, 30, 30])\ntorch.Size([5, 64, 15, 15])\ntorch.Size([5, 128, 8, 8])\ntorch.Size([5, 256, 4, 4])\n"
    }
   ],
   "source": [
    "conv = nn.Conv2d(3, 32, 3, (1, 1), 1)\n",
    "output = conv(input)\n",
    "print(output.shape)\n",
    "\n",
    "conv2 = nn.Conv2d(32, 64, 3, (2, 2),1)\n",
    "output2 = conv2(output)\n",
    "print(output2.shape)\n",
    "\n",
    "conv3 = nn.Conv2d(64, 128, 2, (2, 2), 1)\n",
    "output3 = conv3(output2)\n",
    "print(output3.shape)\n",
    "\n",
    "conv4 = nn.Conv2d(128, 256, 2, (2, 2))\n",
    "output4 = conv4(output3)\n",
    "print(output4.shape)"
   ]
  },
  {
   "cell_type": "code",
   "execution_count": 8,
   "metadata": {},
   "outputs": [
    {
     "output_type": "stream",
     "name": "stdout",
     "text": "torch.Size([1, 32, 30, 30])\ntorch.Size([1, 64, 15, 15])\ntorch.Size([1, 128, 8, 8])\ntorch.Size([1, 256, 4, 4])\n"
    }
   ],
   "source": [
    "from model.convolution_lstm import ConvLSTM\n",
    "from torch.autograd import Variable\n",
    "def attention(ConvLstm_out):\n",
    "    attention_w = []\n",
    "    for k in range(5):\n",
    "            alpha = torch.mul(ConvLstm_out[k], ConvLstm_out[-1])/5\n",
    "            m = nn.Softmax(dim=1)\n",
    "            a = m(alpha).detach().numpy()\n",
    "            attention_w.append(a)\n",
    "    attention_w = torch.from_numpy(np.array(attention_w))\n",
    "    out = torch.matmul(attention_w, ConvLstm_out).sum(0)\n",
    "    out = torch.reshape(out, (1, out.shape[0], out.shape[1], out.shape[2]))\n",
    "    return out\n",
    "\n",
    "conv1_lstm = ConvLSTM(input_channels=32, hidden_channels=[32, 32, 32], kernel_size=3, step=5, effective_step=[4]).to(\"cpu\")\n",
    "conv1_lstm_out = conv1_lstm(output)\n",
    "conv1_lstm_out = attention(conv1_lstm_out[0][0])\n",
    "print(conv1_lstm_out.shape)\n",
    "\n",
    "conv2_lstm = ConvLSTM(input_channels=64, hidden_channels=[64, 64, 64],  kernel_size=3, step=5, effective_step=[4]).to(\"cpu\")\n",
    "conv2_lstm_out = conv2_lstm(output2)\n",
    "conv2_lstm_out = attention(conv2_lstm_out[0][0])\n",
    "print(conv2_lstm_out.shape)\n",
    "\n",
    "conv3_lstm = ConvLSTM(input_channels=128, hidden_channels=[128, 128, 128], kernel_size=3, step=5, effective_step=[4]).to(\"cpu\")\n",
    "conv3_lstm_out = conv3_lstm(output3)\n",
    "conv3_lstm_out = attention(conv3_lstm_out[0][0])\n",
    "print(conv3_lstm_out.shape)\n",
    "\n",
    "conv4_lstm = ConvLSTM(input_channels=256, hidden_channels=[256, 256, 256], kernel_size=3, step=5, effective_step=[4]).to(\"cpu\")\n",
    "conv4_lstm_out = conv4_lstm(output4)\n",
    "conv4_lstm_out = attention(conv4_lstm_out[0][0])\n",
    "print(conv4_lstm_out.shape)"
   ]
  },
  {
   "cell_type": "code",
   "execution_count": 17,
   "metadata": {},
   "outputs": [
    {
     "output_type": "stream",
     "name": "stdout",
     "text": "torch.Size([1, 3, 30, 30])\n"
    }
   ],
   "source": [
    "deconv4 = nn.ConvTranspose2d(in_channels=256, out_channels=128, kernel_size=2, stride=[2, 2], padding=0)\n",
    "deoutput4 = deconv4(conv4_lstm_out)\n",
    "deconv4_concat = torch.cat((deoutput4, conv3_lstm_out), dim = 1)\n",
    "# print(deconv4_concat.shape)\n",
    "\n",
    "deconv3 = nn.ConvTranspose2d(in_channels=256, out_channels=64, kernel_size=3, stride=[2, 2], padding=1)\n",
    "deoutput3 = deconv3(deconv4_concat)\n",
    "deconv3_concat = torch.cat((deoutput3, conv2_lstm_out), dim = 1)\n",
    "# print(deconv3_concat.shape)\n",
    "\n",
    "deconv2 = nn.ConvTranspose2d(in_channels=128, out_channels=32, kernel_size=2, stride=[2, 2])\n",
    "deoutput2 = deconv2(deconv3_concat)\n",
    "deconv2_concat = torch.cat((deoutput2, conv1_lstm_out), dim = 1)\n",
    "# print(deconv2_concat.shape)\n",
    "\n",
    "deconv1 = nn.Sequential(\n",
    "            nn.ConvTranspose2d(in_channels=64, out_channels=3, kernel_size=3, stride=[1, 1], padding=1),\n",
    "            nn.SELU()\n",
    "        )\n",
    "deoutput1 = deconv1(deconv2_concat)\n",
    "print(deoutput1.shape)"
   ]
  },
  {
   "cell_type": "code",
   "execution_count": null,
   "metadata": {},
   "outputs": [],
   "source": []
  }
 ]
}